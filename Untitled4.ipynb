{
 "cells": [
  {
   "cell_type": "code",
   "execution_count": 1,
   "id": "9eb97080",
   "metadata": {},
   "outputs": [],
   "source": [
    "list=[\"naveen\",\"car\",\"money\",\"bike\",\"colage\"]"
   ]
  },
  {
   "cell_type": "code",
   "execution_count": 2,
   "id": "76e85e6b",
   "metadata": {},
   "outputs": [
    {
     "data": {
      "text/plain": [
       "['naveen', 'car', 'money', 'bike', 'colage']"
      ]
     },
     "execution_count": 2,
     "metadata": {},
     "output_type": "execute_result"
    }
   ],
   "source": [
    "list"
   ]
  },
  {
   "cell_type": "code",
   "execution_count": 3,
   "id": "9bc6a142",
   "metadata": {},
   "outputs": [],
   "source": [
    "a=(\"a\",\"b\",\"c\",\"d\",\"e\",\"f\",\"g\",\"h\")"
   ]
  },
  {
   "cell_type": "code",
   "execution_count": 4,
   "id": "9447fb41",
   "metadata": {},
   "outputs": [
    {
     "data": {
      "text/plain": [
       "('a', 'b', 'c', 'd', 'e', 'f', 'g', 'h')"
      ]
     },
     "execution_count": 4,
     "metadata": {},
     "output_type": "execute_result"
    }
   ],
   "source": [
    "a"
   ]
  },
  {
   "cell_type": "code",
   "execution_count": 5,
   "id": "d0ad2f4a",
   "metadata": {},
   "outputs": [],
   "source": [
    "b=(1,2,3,4,5,6,7,8)"
   ]
  },
  {
   "cell_type": "code",
   "execution_count": 6,
   "id": "f02d7e8d",
   "metadata": {},
   "outputs": [
    {
     "data": {
      "text/plain": [
       "(1, 2, 3, 4, 5, 6, 7, 8)"
      ]
     },
     "execution_count": 6,
     "metadata": {},
     "output_type": "execute_result"
    }
   ],
   "source": [
    "b"
   ]
  },
  {
   "cell_type": "code",
   "execution_count": 7,
   "id": "64eb3179",
   "metadata": {},
   "outputs": [],
   "source": [
    "set=(1,2,3,4,5,6,7,8,9,10)"
   ]
  },
  {
   "cell_type": "code",
   "execution_count": 9,
   "id": "8b9881a3",
   "metadata": {},
   "outputs": [],
   "source": [
    "dic={\"key\":\"value\",\"key1\":\"value2\",\"key\":\"value2\"}"
   ]
  },
  {
   "cell_type": "code",
   "execution_count": 11,
   "id": "60222919",
   "metadata": {},
   "outputs": [],
   "source": [
    "praneeth={\"name\":\"praneeth\",\"age\":\"19\",\"college\":\"kmics\",\"place\":\"naryanguda\"}"
   ]
  },
  {
   "cell_type": "code",
   "execution_count": 12,
   "id": "fc429387",
   "metadata": {},
   "outputs": [
    {
     "data": {
      "text/plain": [
       "{'name': 'praneeth', 'age': '19', 'college': 'kmics', 'place': 'naryanguda'}"
      ]
     },
     "execution_count": 12,
     "metadata": {},
     "output_type": "execute_result"
    }
   ],
   "source": [
    "praneeth"
   ]
  },
  {
   "cell_type": "code",
   "execution_count": 13,
   "id": "8be485e0",
   "metadata": {},
   "outputs": [
    {
     "data": {
      "text/plain": [
       "dict_values(['praneeth', '19', 'kmics', 'naryanguda'])"
      ]
     },
     "execution_count": 13,
     "metadata": {},
     "output_type": "execute_result"
    }
   ],
   "source": [
    "praneeth.values()"
   ]
  },
  {
   "cell_type": "code",
   "execution_count": 14,
   "id": "dde74906",
   "metadata": {},
   "outputs": [
    {
     "data": {
      "text/plain": [
       "dict_keys(['name', 'age', 'college', 'place'])"
      ]
     },
     "execution_count": 14,
     "metadata": {},
     "output_type": "execute_result"
    }
   ],
   "source": [
    "praneeth.keys()"
   ]
  },
  {
   "cell_type": "code",
   "execution_count": 15,
   "id": "e3ba6410",
   "metadata": {},
   "outputs": [
    {
     "data": {
      "text/plain": [
       "dict"
      ]
     },
     "execution_count": 15,
     "metadata": {},
     "output_type": "execute_result"
    }
   ],
   "source": [
    "type(praneeth)"
   ]
  },
  {
   "cell_type": "code",
   "execution_count": 17,
   "id": "7d826b81",
   "metadata": {},
   "outputs": [],
   "source": [
    "praneeth[0]=\"snehith\""
   ]
  },
  {
   "cell_type": "code",
   "execution_count": 20,
   "id": "457c9034",
   "metadata": {},
   "outputs": [
    {
     "data": {
      "text/plain": [
       "{'name': 'praneeth',\n",
       " 'age': '19',\n",
       " 'college': 'kmics',\n",
       " 'place': 'naryanguda',\n",
       " 0: 'snehith'}"
      ]
     },
     "execution_count": 20,
     "metadata": {},
     "output_type": "execute_result"
    }
   ],
   "source": [
    "praneeth"
   ]
  },
  {
   "cell_type": "code",
   "execution_count": 24,
   "id": "cb82b2e1",
   "metadata": {},
   "outputs": [],
   "source": [
    "praneeth[1]=\"password\""
   ]
  },
  {
   "cell_type": "code",
   "execution_count": 25,
   "id": "f922850c",
   "metadata": {},
   "outputs": [
    {
     "data": {
      "text/plain": [
       "{'name': 'praneeth',\n",
       " 'age': '19',\n",
       " 'college': 'kmics',\n",
       " 'place': 'naryanguda',\n",
       " 0: 'snehith',\n",
       " 1: 'password'}"
      ]
     },
     "execution_count": 25,
     "metadata": {},
     "output_type": "execute_result"
    }
   ],
   "source": [
    "praneeth"
   ]
  },
  {
   "cell_type": "code",
   "execution_count": 26,
   "id": "8928c47c",
   "metadata": {},
   "outputs": [],
   "source": [
    "praneeth[2]=\"password=password\""
   ]
  },
  {
   "cell_type": "code",
   "execution_count": 27,
   "id": "ba2c2a38",
   "metadata": {},
   "outputs": [
    {
     "data": {
      "text/plain": [
       "{'name': 'praneeth',\n",
       " 'age': '19',\n",
       " 'college': 'kmics',\n",
       " 'place': 'naryanguda',\n",
       " 0: 'snehith',\n",
       " 1: 'password',\n",
       " 2: 'password=password'}"
      ]
     },
     "execution_count": 27,
     "metadata": {},
     "output_type": "execute_result"
    }
   ],
   "source": [
    "praneeth"
   ]
  },
  {
   "cell_type": "code",
   "execution_count": 28,
   "id": "f28ee2ce",
   "metadata": {},
   "outputs": [],
   "source": [
    "t=(\"praneeth\",\"collage\",\"car\",\"bike\")"
   ]
  },
  {
   "cell_type": "code",
   "execution_count": 29,
   "id": "cbf1625b",
   "metadata": {},
   "outputs": [
    {
     "data": {
      "text/plain": [
       "('praneeth', 'collage', 'car', 'bike')"
      ]
     },
     "execution_count": 29,
     "metadata": {},
     "output_type": "execute_result"
    }
   ],
   "source": [
    "t"
   ]
  },
  {
   "cell_type": "code",
   "execution_count": 33,
   "id": "c697359e",
   "metadata": {},
   "outputs": [
    {
     "ename": "TypeError",
     "evalue": "'tuple' object does not support item assignment",
     "output_type": "error",
     "traceback": [
      "\u001b[1;31m---------------------------------------------------------------------------\u001b[0m",
      "\u001b[1;31mTypeError\u001b[0m                                 Traceback (most recent call last)",
      "Cell \u001b[1;32mIn[33], line 1\u001b[0m\n\u001b[1;32m----> 1\u001b[0m t[\u001b[38;5;241m0\u001b[39m]\u001b[38;5;241m=\u001b[39m\u001b[38;5;124m\"\u001b[39m\u001b[38;5;124mrama\u001b[39m\u001b[38;5;124m\"\u001b[39m\n",
      "\u001b[1;31mTypeError\u001b[0m: 'tuple' object does not support item assignment"
     ]
    }
   ],
   "source": [
    "t[0]=\"rama\""
   ]
  },
  {
   "cell_type": "code",
   "execution_count": 34,
   "id": "8a2ee2b3",
   "metadata": {},
   "outputs": [],
   "source": [
    "t=[\"praneeth\",\"collage\",\"car\",\"bike\"]"
   ]
  },
  {
   "cell_type": "code",
   "execution_count": 35,
   "id": "9b4be48b",
   "metadata": {},
   "outputs": [
    {
     "data": {
      "text/plain": [
       "['praneeth', 'collage', 'car', 'bike']"
      ]
     },
     "execution_count": 35,
     "metadata": {},
     "output_type": "execute_result"
    }
   ],
   "source": [
    "t"
   ]
  },
  {
   "cell_type": "code",
   "execution_count": 38,
   "id": "cd3c13c0",
   "metadata": {},
   "outputs": [],
   "source": [
    "t[2]=\"bike\""
   ]
  },
  {
   "cell_type": "code",
   "execution_count": 39,
   "id": "0539e8ad",
   "metadata": {},
   "outputs": [
    {
     "data": {
      "text/plain": [
       "['praneeth', 'collage', 'bike', 'bike']"
      ]
     },
     "execution_count": 39,
     "metadata": {},
     "output_type": "execute_result"
    }
   ],
   "source": [
    "t"
   ]
  },
  {
   "cell_type": "code",
   "execution_count": 40,
   "id": "839b212e",
   "metadata": {},
   "outputs": [],
   "source": [
    "f=open(\"praneeth.txt\",\"w\")"
   ]
  },
  {
   "cell_type": "code",
   "execution_count": null,
   "id": "c61867d1",
   "metadata": {},
   "outputs": [],
   "source": []
  }
 ],
 "metadata": {
  "kernelspec": {
   "display_name": "Python 3 (ipykernel)",
   "language": "python",
   "name": "python3"
  },
  "language_info": {
   "codemirror_mode": {
    "name": "ipython",
    "version": 3
   },
   "file_extension": ".py",
   "mimetype": "text/x-python",
   "name": "python",
   "nbconvert_exporter": "python",
   "pygments_lexer": "ipython3",
   "version": "3.10.9"
  }
 },
 "nbformat": 4,
 "nbformat_minor": 5
}
