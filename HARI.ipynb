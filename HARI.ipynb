{
 "cells": [
  {
   "cell_type": "markdown",
   "id": "046f5631",
   "metadata": {},
   "source": [
    "# boolean , conditions and list manupulation "
   ]
  },
  {
   "cell_type": "code",
   "execution_count": 3,
   "id": "ecc95dbf",
   "metadata": {},
   "outputs": [],
   "source": [
    "a=10\n",
    "b=5"
   ]
  },
  {
   "cell_type": "code",
   "execution_count": 5,
   "id": "c23f1d83",
   "metadata": {},
   "outputs": [
    {
     "name": "stdout",
     "output_type": "stream",
     "text": [
      "True\n"
     ]
    }
   ],
   "source": [
    "print(a>b)"
   ]
  },
  {
   "cell_type": "code",
   "execution_count": 6,
   "id": "8f0b0651",
   "metadata": {},
   "outputs": [
    {
     "name": "stdout",
     "output_type": "stream",
     "text": [
      "False\n"
     ]
    }
   ],
   "source": [
    "print(a<b)"
   ]
  },
  {
   "cell_type": "code",
   "execution_count": 7,
   "id": "a8d0331c",
   "metadata": {},
   "outputs": [
    {
     "name": "stdout",
     "output_type": "stream",
     "text": [
      "False\n"
     ]
    }
   ],
   "source": [
    "print(10>15)"
   ]
  },
  {
   "cell_type": "markdown",
   "id": "9f34d3bf",
   "metadata": {},
   "source": [
    "# + , - , * , / , %"
   ]
  },
  {
   "cell_type": "code",
   "execution_count": 3,
   "id": "89a32f6e",
   "metadata": {},
   "outputs": [],
   "source": [
    "a=10\n",
    "b=20"
   ]
  },
  {
   "cell_type": "code",
   "execution_count": 4,
   "id": "49a60c67",
   "metadata": {},
   "outputs": [
    {
     "data": {
      "text/plain": [
       "30"
      ]
     },
     "execution_count": 4,
     "metadata": {},
     "output_type": "execute_result"
    }
   ],
   "source": [
    "a+b"
   ]
  },
  {
   "cell_type": "code",
   "execution_count": 8,
   "id": "feac1791",
   "metadata": {},
   "outputs": [
    {
     "data": {
      "text/plain": [
       "-10"
      ]
     },
     "execution_count": 8,
     "metadata": {},
     "output_type": "execute_result"
    }
   ],
   "source": [
    "a-b"
   ]
  },
  {
   "cell_type": "code",
   "execution_count": 9,
   "id": "dcf5d3ef",
   "metadata": {},
   "outputs": [
    {
     "data": {
      "text/plain": [
       "10"
      ]
     },
     "execution_count": 9,
     "metadata": {},
     "output_type": "execute_result"
    }
   ],
   "source": [
    "a%b"
   ]
  },
  {
   "cell_type": "code",
   "execution_count": 10,
   "id": "392ea22d",
   "metadata": {},
   "outputs": [
    {
     "data": {
      "text/plain": [
       "0.5"
      ]
     },
     "execution_count": 10,
     "metadata": {},
     "output_type": "execute_result"
    }
   ],
   "source": [
    "a/b"
   ]
  },
  {
   "cell_type": "code",
   "execution_count": 11,
   "id": "5e3b3326",
   "metadata": {},
   "outputs": [
    {
     "name": "stdout",
     "output_type": "stream",
     "text": [
      "here we are adding car an pen variable \n"
     ]
    }
   ],
   "source": [
    "print(\"here we are adding car an pen variable \")"
   ]
  },
  {
   "cell_type": "code",
   "execution_count": 12,
   "id": "54d4819a",
   "metadata": {},
   "outputs": [],
   "source": [
    "car=10\n",
    "bike=23"
   ]
  },
  {
   "cell_type": "code",
   "execution_count": 15,
   "id": "49bc2774",
   "metadata": {},
   "outputs": [],
   "source": [
    "book=car+bike"
   ]
  },
  {
   "cell_type": "code",
   "execution_count": 5,
   "id": "6135ddb9",
   "metadata": {},
   "outputs": [
    {
     "ename": "SyntaxError",
     "evalue": "invalid syntax. Perhaps you forgot a comma? (417245301.py, line 1)",
     "output_type": "error",
     "traceback": [
      "\u001b[1;36m  Cell \u001b[1;32mIn[5], line 1\u001b[1;36m\u001b[0m\n\u001b[1;33m    print(\"here we are doing concatination of car and bike: value of book is :-\"book ,)\u001b[0m\n\u001b[1;37m          ^\u001b[0m\n\u001b[1;31mSyntaxError\u001b[0m\u001b[1;31m:\u001b[0m invalid syntax. Perhaps you forgot a comma?\n"
     ]
    }
   ],
   "source": [
    "print(\"here we are doing concatination of car and bike: value of book is :-\"book ,)"
   ]
  },
  {
   "cell_type": "code",
   "execution_count": 6,
   "id": "acd564db",
   "metadata": {},
   "outputs": [],
   "source": [
    "a=40\n",
    "car=20\n",
    "value=a+car\n",
    "value2=a-car\n",
    "value3=a*car\n",
    "value4=a/car\n",
    "value5=a*100/car #this is a percentage of a "
   ]
  },
  {
   "cell_type": "code",
   "execution_count": 4,
   "id": "364a36e4",
   "metadata": {},
   "outputs": [
    {
     "name": "stdout",
     "output_type": "stream",
     "text": [
      "60\n"
     ]
    }
   ],
   "source": [
    "print(a+car)"
   ]
  },
  {
   "cell_type": "code",
   "execution_count": 6,
   "id": "20885357",
   "metadata": {},
   "outputs": [
    {
     "name": "stdout",
     "output_type": "stream",
     "text": [
      "20\n"
     ]
    }
   ],
   "source": [
    "print(a-car)"
   ]
  },
  {
   "cell_type": "code",
   "execution_count": 7,
   "id": "aa527bb5",
   "metadata": {},
   "outputs": [
    {
     "name": "stdout",
     "output_type": "stream",
     "text": [
      "800\n"
     ]
    }
   ],
   "source": [
    "print(a*car)"
   ]
  },
  {
   "cell_type": "code",
   "execution_count": 9,
   "id": "70284913",
   "metadata": {},
   "outputs": [
    {
     "name": "stdout",
     "output_type": "stream",
     "text": [
      "2.0\n"
     ]
    }
   ],
   "source": [
    "print(a/car)"
   ]
  },
  {
   "cell_type": "code",
   "execution_count": 10,
   "id": "97aa399e",
   "metadata": {},
   "outputs": [
    {
     "name": "stdout",
     "output_type": "stream",
     "text": [
      "200.0\n"
     ]
    }
   ],
   "source": [
    "print(a*100/car)"
   ]
  },
  {
   "cell_type": "markdown",
   "id": "4a5e6789",
   "metadata": {},
   "source": [
    "# list manupilation"
   ]
  },
  {
   "cell_type": "code",
   "execution_count": 12,
   "id": "22fb78cb",
   "metadata": {},
   "outputs": [],
   "source": [
    "t=(1,2,3,3.5,\"hari\")"
   ]
  },
  {
   "cell_type": "code",
   "execution_count": 13,
   "id": "d4200bf0",
   "metadata": {},
   "outputs": [
    {
     "data": {
      "text/plain": [
       "tuple"
      ]
     },
     "execution_count": 13,
     "metadata": {},
     "output_type": "execute_result"
    }
   ],
   "source": [
    "type(t)"
   ]
  },
  {
   "cell_type": "code",
   "execution_count": 14,
   "id": "0fddba6d",
   "metadata": {},
   "outputs": [
    {
     "data": {
      "text/plain": [
       "type[1, 2, 3, 3.5, 'hari']"
      ]
     },
     "execution_count": 14,
     "metadata": {},
     "output_type": "execute_result"
    }
   ],
   "source": [
    "type[t]"
   ]
  },
  {
   "cell_type": "code",
   "execution_count": 16,
   "id": "2113ef52",
   "metadata": {},
   "outputs": [
    {
     "data": {
      "text/plain": [
       "[1, 2, 3, 3.5, 'hari']"
      ]
     },
     "execution_count": 16,
     "metadata": {},
     "output_type": "execute_result"
    }
   ],
   "source": [
    "list(t)"
   ]
  },
  {
   "cell_type": "code",
   "execution_count": 17,
   "id": "d6b29b9a",
   "metadata": {},
   "outputs": [],
   "source": [
    "b=list(t)"
   ]
  },
  {
   "cell_type": "code",
   "execution_count": 18,
   "id": "bdb2bdf2",
   "metadata": {},
   "outputs": [
    {
     "data": {
      "text/plain": [
       "list"
      ]
     },
     "execution_count": 18,
     "metadata": {},
     "output_type": "execute_result"
    }
   ],
   "source": [
    "type(b)"
   ]
  },
  {
   "cell_type": "code",
   "execution_count": 19,
   "id": "97ef59e3",
   "metadata": {},
   "outputs": [],
   "source": [
    "b={1,2,3,3,4,\"naveen\",\"krishna\"}"
   ]
  },
  {
   "cell_type": "code",
   "execution_count": 20,
   "id": "957bc9bb",
   "metadata": {},
   "outputs": [],
   "source": [
    "s1=list(b)"
   ]
  },
  {
   "cell_type": "code",
   "execution_count": 21,
   "id": "e7c2c8b4",
   "metadata": {},
   "outputs": [
    {
     "name": "stdout",
     "output_type": "stream",
     "text": [
      "[1, 2, 3, 4, 'naveen', 'krishna']\n"
     ]
    }
   ],
   "source": [
    "print(s1)"
   ]
  },
  {
   "cell_type": "markdown",
   "id": "44dbb04c",
   "metadata": {},
   "source": [
    "# conditions"
   ]
  },
  {
   "cell_type": "markdown",
   "id": "c531a8c6",
   "metadata": {},
   "source": [
    "\"\"\"conditions has 3 modules if elif else\"\"\""
   ]
  },
  {
   "cell_type": "code",
   "execution_count": 1,
   "id": "6053c05e",
   "metadata": {},
   "outputs": [
    {
     "name": "stdout",
     "output_type": "stream",
     "text": [
      "20\n"
     ]
    }
   ],
   "source": [
    "a=10\n",
    "b=20\n",
    "c=a+b\n",
    "if a>b:\n",
    "    print(c)\n",
    "elif a<b:\n",
    "    print(b)\n",
    "elif a!=b:\n",
    "    print(c)\n",
    "else:\n",
    "    print(\"enter the value:\")"
   ]
  },
  {
   "cell_type": "code",
   "execution_count": 2,
   "id": "e71ac288",
   "metadata": {},
   "outputs": [
    {
     "name": "stdout",
     "output_type": "stream",
     "text": [
      "b is grt then a\n"
     ]
    }
   ],
   "source": [
    "a=10\n",
    "b=20\n",
    "if a>b:\n",
    "    print(\"a is grt then b\")\n",
    "elif b>a:\n",
    "    print(\"b is grt then a\")"
   ]
  },
  {
   "cell_type": "code",
   "execution_count": 4,
   "id": "b6762b4e",
   "metadata": {},
   "outputs": [
    {
     "name": "stdout",
     "output_type": "stream",
     "text": [
      " 1010\n"
     ]
    }
   ],
   "source": [
    "number=10\n",
    "a=f'{number : b}'\n",
    "print(a)"
   ]
  },
  {
   "cell_type": "code",
   "execution_count": 13,
   "id": "be6851a2",
   "metadata": {},
   "outputs": [
    {
     "name": "stdout",
     "output_type": "stream",
     "text": [
      "     11110\n"
     ]
    }
   ],
   "source": [
    "number2 = 30\n",
    "b=f'{number2: 10b}'\n",
    "print(b)"
   ]
  },
  {
   "cell_type": "code",
   "execution_count": 11,
   "id": "da46171a",
   "metadata": {},
   "outputs": [
    {
     "name": "stdout",
     "output_type": "stream",
     "text": [
      "0000011110\n"
     ]
    }
   ],
   "source": [
    "number3 = 30\n",
    "c=f'{number3:010b}'\n",
    "print(c)"
   ]
  },
  {
   "cell_type": "markdown",
   "id": "d1fb8678",
   "metadata": {},
   "source": [
    "# and or operation"
   ]
  },
  {
   "cell_type": "code",
   "execution_count": 16,
   "id": "8b833059",
   "metadata": {},
   "outputs": [
    {
     "name": "stdout",
     "output_type": "stream",
     "text": [
      "10\n"
     ]
    }
   ],
   "source": [
    "a=10\n",
    "b=20\n",
    "if a==10 or a==20:\n",
    "    print(a)"
   ]
  },
  {
   "cell_type": "code",
   "execution_count": 17,
   "id": "7599bd87",
   "metadata": {},
   "outputs": [],
   "source": [
    "if a==10 and a==20:\n",
    "    print(a)"
   ]
  },
  {
   "cell_type": "code",
   "execution_count": null,
   "id": "eb9afc46",
   "metadata": {},
   "outputs": [],
   "source": []
  }
 ],
 "metadata": {
  "kernelspec": {
   "display_name": "Python 3 (ipykernel)",
   "language": "python",
   "name": "python3"
  },
  "language_info": {
   "codemirror_mode": {
    "name": "ipython",
    "version": 3
   },
   "file_extension": ".py",
   "mimetype": "text/x-python",
   "name": "python",
   "nbconvert_exporter": "python",
   "pygments_lexer": "ipython3",
   "version": "3.10.9"
  }
 },
 "nbformat": 4,
 "nbformat_minor": 5
}
