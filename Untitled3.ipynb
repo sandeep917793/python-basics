{
 "cells": [
  {
   "cell_type": "code",
   "execution_count": 2,
   "id": "13316a8b",
   "metadata": {},
   "outputs": [],
   "source": [
    "strings=\"sahithi\",\"car\",\"holiday\",\"car\",\"collge\""
   ]
  },
  {
   "cell_type": "raw",
   "id": "bdd4418b",
   "metadata": {},
   "source": [
    "strings"
   ]
  },
  {
   "cell_type": "code",
   "execution_count": 3,
   "id": "2c634068",
   "metadata": {},
   "outputs": [],
   "source": [
    "strings=\"sahithi\",\"car\",\"holiday\",\"car\",\"collge\""
   ]
  },
  {
   "cell_type": "code",
   "execution_count": 5,
   "id": "c37cc4b1",
   "metadata": {},
   "outputs": [
    {
     "data": {
      "text/plain": [
       "('sahithi', 'car', 'holiday', 'car', 'collge')"
      ]
     },
     "execution_count": 5,
     "metadata": {},
     "output_type": "execute_result"
    }
   ],
   "source": [
    "strings"
   ]
  },
  {
   "cell_type": "code",
   "execution_count": 6,
   "id": "db080daf",
   "metadata": {},
   "outputs": [
    {
     "name": "stdout",
     "output_type": "stream",
     "text": [
      "sahithi\n"
     ]
    }
   ],
   "source": [
    "print(\"sahithi\")"
   ]
  },
  {
   "cell_type": "code",
   "execution_count": 7,
   "id": "43cbcf54",
   "metadata": {},
   "outputs": [
    {
     "name": "stdout",
     "output_type": "stream",
     "text": [
      "shivani\n"
     ]
    }
   ],
   "source": [
    "print(\"shivani\")"
   ]
  },
  {
   "cell_type": "code",
   "execution_count": 8,
   "id": "11693470",
   "metadata": {},
   "outputs": [
    {
     "name": "stdout",
     "output_type": "stream",
     "text": [
      "10\n"
     ]
    }
   ],
   "source": [
    "print(\"10\")"
   ]
  },
  {
   "cell_type": "code",
   "execution_count": 9,
   "id": "7ddf4934",
   "metadata": {},
   "outputs": [
    {
     "name": "stdout",
     "output_type": "stream",
     "text": [
      "manasa\n"
     ]
    }
   ],
   "source": [
    "print(\"manasa\")"
   ]
  },
  {
   "cell_type": "code",
   "execution_count": 10,
   "id": "14282c59",
   "metadata": {},
   "outputs": [
    {
     "name": "stdout",
     "output_type": "stream",
     "text": [
      "laya\n"
     ]
    }
   ],
   "source": [
    "print(\"laya\")"
   ]
  },
  {
   "cell_type": "code",
   "execution_count": 11,
   "id": "5d62eab0",
   "metadata": {},
   "outputs": [
    {
     "name": "stdout",
     "output_type": "stream",
     "text": [
      "snehith\n"
     ]
    }
   ],
   "source": [
    "print(\"snehith\")"
   ]
  },
  {
   "cell_type": "code",
   "execution_count": 12,
   "id": "562987be",
   "metadata": {},
   "outputs": [
    {
     "name": "stdout",
     "output_type": "stream",
     "text": [
      "sai\n"
     ]
    }
   ],
   "source": [
    "print(\"sai\")"
   ]
  },
  {
   "cell_type": "code",
   "execution_count": 13,
   "id": "2d2a99d6",
   "metadata": {},
   "outputs": [
    {
     "name": "stdout",
     "output_type": "stream",
     "text": [
      "karthik\n"
     ]
    }
   ],
   "source": [
    "print(\"karthik\")"
   ]
  },
  {
   "cell_type": "code",
   "execution_count": 15,
   "id": "7fe00aaa",
   "metadata": {},
   "outputs": [
    {
     "name": "stdout",
     "output_type": "stream",
     "text": [
      "bhargav\n"
     ]
    }
   ],
   "source": [
    "print(\"bhargav\")"
   ]
  },
  {
   "cell_type": "code",
   "execution_count": 16,
   "id": "5e942fdc",
   "metadata": {},
   "outputs": [
    {
     "name": "stdout",
     "output_type": "stream",
     "text": [
      "100\n"
     ]
    }
   ],
   "source": [
    "print(100)"
   ]
  },
  {
   "cell_type": "code",
   "execution_count": 17,
   "id": "f478a8f8",
   "metadata": {},
   "outputs": [],
   "source": [
    "s=[1,2,3,4,5,6,7]"
   ]
  },
  {
   "cell_type": "code",
   "execution_count": 18,
   "id": "00b4b641",
   "metadata": {},
   "outputs": [
    {
     "name": "stdout",
     "output_type": "stream",
     "text": [
      "[1, 2, 3, 4, 5, 6, 7]\n"
     ]
    }
   ],
   "source": [
    "print(s)"
   ]
  },
  {
   "cell_type": "code",
   "execution_count": 20,
   "id": "e2994fa1",
   "metadata": {},
   "outputs": [
    {
     "data": {
      "text/plain": [
       "1"
      ]
     },
     "execution_count": 20,
     "metadata": {},
     "output_type": "execute_result"
    }
   ],
   "source": [
    "s[0]"
   ]
  },
  {
   "cell_type": "code",
   "execution_count": 23,
   "id": "d98489e3",
   "metadata": {
    "scrolled": true
   },
   "outputs": [
    {
     "data": {
      "text/plain": [
       "2"
      ]
     },
     "execution_count": 23,
     "metadata": {},
     "output_type": "execute_result"
    }
   ],
   "source": [
    "s[1]"
   ]
  },
  {
   "cell_type": "code",
   "execution_count": 24,
   "id": "0798287b",
   "metadata": {},
   "outputs": [],
   "source": [
    "s1=[\"sahithi\",\"shivani\",\"manasa\",\"laya\"]"
   ]
  },
  {
   "cell_type": "code",
   "execution_count": 25,
   "id": "4a988cee",
   "metadata": {},
   "outputs": [
    {
     "data": {
      "text/plain": [
       "'sahithi'"
      ]
     },
     "execution_count": 25,
     "metadata": {},
     "output_type": "execute_result"
    }
   ],
   "source": [
    "s1[0]"
   ]
  },
  {
   "cell_type": "code",
   "execution_count": 26,
   "id": "17a0bbaf",
   "metadata": {},
   "outputs": [
    {
     "data": {
      "text/plain": [
       "'shivani'"
      ]
     },
     "execution_count": 26,
     "metadata": {},
     "output_type": "execute_result"
    }
   ],
   "source": [
    "s1[1]"
   ]
  },
  {
   "cell_type": "code",
   "execution_count": 27,
   "id": "2d66bd77",
   "metadata": {},
   "outputs": [
    {
     "data": {
      "text/plain": [
       "'manasa'"
      ]
     },
     "execution_count": 27,
     "metadata": {},
     "output_type": "execute_result"
    }
   ],
   "source": [
    "s1[2]"
   ]
  },
  {
   "cell_type": "code",
   "execution_count": 28,
   "id": "43bbc286",
   "metadata": {},
   "outputs": [
    {
     "data": {
      "text/plain": [
       "'laya'"
      ]
     },
     "execution_count": 28,
     "metadata": {},
     "output_type": "execute_result"
    }
   ],
   "source": [
    "s1[3]"
   ]
  },
  {
   "cell_type": "code",
   "execution_count": 29,
   "id": "090ffa1e",
   "metadata": {},
   "outputs": [],
   "source": [
    "sahithi=\"i am sahithi from andra pradesh and i stay in taranaka\""
   ]
  },
  {
   "cell_type": "code",
   "execution_count": 30,
   "id": "61dbd815",
   "metadata": {},
   "outputs": [
    {
     "name": "stdout",
     "output_type": "stream",
     "text": [
      "i am sahithi from andra pradesh and i stay in taranaka\n"
     ]
    }
   ],
   "source": [
    "print(sahithi)"
   ]
  },
  {
   "cell_type": "code",
   "execution_count": 32,
   "id": "64161751",
   "metadata": {},
   "outputs": [
    {
     "data": {
      "text/plain": [
       "'i'"
      ]
     },
     "execution_count": 32,
     "metadata": {},
     "output_type": "execute_result"
    }
   ],
   "source": [
    "sahithi[0]"
   ]
  },
  {
   "cell_type": "code",
   "execution_count": 37,
   "id": "c8a12dc8",
   "metadata": {},
   "outputs": [
    {
     "data": {
      "text/plain": [
       "' '"
      ]
     },
     "execution_count": 37,
     "metadata": {},
     "output_type": "execute_result"
    }
   ],
   "source": [
    "sahithi[1]"
   ]
  },
  {
   "cell_type": "code",
   "execution_count": 38,
   "id": "45cd4d08",
   "metadata": {},
   "outputs": [
    {
     "data": {
      "text/plain": [
       "'a'"
      ]
     },
     "execution_count": 38,
     "metadata": {},
     "output_type": "execute_result"
    }
   ],
   "source": [
    "sahithi[2]"
   ]
  },
  {
   "cell_type": "code",
   "execution_count": 39,
   "id": "f18a136a",
   "metadata": {},
   "outputs": [
    {
     "data": {
      "text/plain": [
       "'m'"
      ]
     },
     "execution_count": 39,
     "metadata": {},
     "output_type": "execute_result"
    }
   ],
   "source": [
    "sahithi[3]"
   ]
  },
  {
   "cell_type": "code",
   "execution_count": 40,
   "id": "6d51009b",
   "metadata": {},
   "outputs": [
    {
     "data": {
      "text/plain": [
       "' '"
      ]
     },
     "execution_count": 40,
     "metadata": {},
     "output_type": "execute_result"
    }
   ],
   "source": [
    "sahithi[4]"
   ]
  },
  {
   "cell_type": "code",
   "execution_count": 41,
   "id": "a518e948",
   "metadata": {},
   "outputs": [
    {
     "data": {
      "text/plain": [
       "'s'"
      ]
     },
     "execution_count": 41,
     "metadata": {},
     "output_type": "execute_result"
    }
   ],
   "source": [
    "sahithi[5]"
   ]
  },
  {
   "cell_type": "code",
   "execution_count": 42,
   "id": "8c25ff65",
   "metadata": {},
   "outputs": [
    {
     "data": {
      "text/plain": [
       "'a'"
      ]
     },
     "execution_count": 42,
     "metadata": {},
     "output_type": "execute_result"
    }
   ],
   "source": [
    "sahithi[6]"
   ]
  },
  {
   "cell_type": "code",
   "execution_count": 43,
   "id": "35679d31",
   "metadata": {},
   "outputs": [
    {
     "data": {
      "text/plain": [
       "'h'"
      ]
     },
     "execution_count": 43,
     "metadata": {},
     "output_type": "execute_result"
    }
   ],
   "source": [
    "sahithi[7]"
   ]
  },
  {
   "cell_type": "code",
   "execution_count": 44,
   "id": "467b7fd6",
   "metadata": {},
   "outputs": [
    {
     "data": {
      "text/plain": [
       "'a'"
      ]
     },
     "execution_count": 44,
     "metadata": {},
     "output_type": "execute_result"
    }
   ],
   "source": [
    "sahithi[-1]"
   ]
  },
  {
   "cell_type": "code",
   "execution_count": 45,
   "id": "3b496697",
   "metadata": {},
   "outputs": [
    {
     "data": {
      "text/plain": [
       "'k'"
      ]
     },
     "execution_count": 45,
     "metadata": {},
     "output_type": "execute_result"
    }
   ],
   "source": [
    "sahithi[-2]"
   ]
  },
  {
   "cell_type": "code",
   "execution_count": 46,
   "id": "80f59a7b",
   "metadata": {},
   "outputs": [
    {
     "data": {
      "text/plain": [
       "'r'"
      ]
     },
     "execution_count": 46,
     "metadata": {},
     "output_type": "execute_result"
    }
   ],
   "source": [
    "sahithi[-6]"
   ]
  },
  {
   "cell_type": "code",
   "execution_count": 47,
   "id": "cc9128f0",
   "metadata": {},
   "outputs": [
    {
     "ename": "IndexError",
     "evalue": "string index out of range",
     "output_type": "error",
     "traceback": [
      "\u001b[1;31m---------------------------------------------------------------------------\u001b[0m",
      "\u001b[1;31mIndexError\u001b[0m                                Traceback (most recent call last)",
      "Cell \u001b[1;32mIn[47], line 1\u001b[0m\n\u001b[1;32m----> 1\u001b[0m \u001b[43msahithi\u001b[49m\u001b[43m[\u001b[49m\u001b[38;5;241;43m-\u001b[39;49m\u001b[38;5;241;43m100\u001b[39;49m\u001b[43m]\u001b[49m\n",
      "\u001b[1;31mIndexError\u001b[0m: string index out of range"
     ]
    }
   ],
   "source": [
    "sahithi[-100]"
   ]
  },
  {
   "cell_type": "code",
   "execution_count": 48,
   "id": "7db78b3a",
   "metadata": {},
   "outputs": [
    {
     "data": {
      "text/plain": [
       "'t'"
      ]
     },
     "execution_count": 48,
     "metadata": {},
     "output_type": "execute_result"
    }
   ],
   "source": [
    "sahithi[-8]"
   ]
  },
  {
   "cell_type": "code",
   "execution_count": 49,
   "id": "70e9d0fe",
   "metadata": {},
   "outputs": [],
   "source": [
    "sahithi=\"i write code\""
   ]
  },
  {
   "cell_type": "code",
   "execution_count": 52,
   "id": "d512e5b2",
   "metadata": {},
   "outputs": [
    {
     "data": {
      "text/plain": [
       "'i write co'"
      ]
     },
     "execution_count": 52,
     "metadata": {},
     "output_type": "execute_result"
    }
   ],
   "source": [
    "sahithi[0:10:1]"
   ]
  },
  {
   "cell_type": "code",
   "execution_count": 53,
   "id": "fee06dd5",
   "metadata": {},
   "outputs": [
    {
     "data": {
      "text/plain": [
       "'iwiec'"
      ]
     },
     "execution_count": 53,
     "metadata": {},
     "output_type": "execute_result"
    }
   ],
   "source": [
    "sahithi[0:10:2]"
   ]
  },
  {
   "cell_type": "code",
   "execution_count": 54,
   "id": "4c3652e4",
   "metadata": {},
   "outputs": [
    {
     "data": {
      "text/plain": [
       "'ireo'"
      ]
     },
     "execution_count": 54,
     "metadata": {},
     "output_type": "execute_result"
    }
   ],
   "source": [
    "sahithi[0:10:3]"
   ]
  },
  {
   "cell_type": "code",
   "execution_count": null,
   "id": "39b4782b",
   "metadata": {},
   "outputs": [],
   "source": []
  }
 ],
 "metadata": {
  "kernelspec": {
   "display_name": "Python 3 (ipykernel)",
   "language": "python",
   "name": "python3"
  },
  "language_info": {
   "codemirror_mode": {
    "name": "ipython",
    "version": 3
   },
   "file_extension": ".py",
   "mimetype": "text/x-python",
   "name": "python",
   "nbconvert_exporter": "python",
   "pygments_lexer": "ipython3",
   "version": "3.10.9"
  }
 },
 "nbformat": 4,
 "nbformat_minor": 5
}
