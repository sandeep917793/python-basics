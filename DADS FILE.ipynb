{
 "cells": [
  {
   "cell_type": "markdown",
   "id": "046f5631",
   "metadata": {},
   "source": [
    "# boolean , conditions and list manupulation "
   ]
  },
  {
   "cell_type": "code",
   "execution_count": 1,
   "id": "ecc95dbf",
   "metadata": {},
   "outputs": [],
   "source": [
    "a=10\n",
    "b=5"
   ]
  },
  {
   "cell_type": "code",
   "execution_count": 2,
   "id": "c23f1d83",
   "metadata": {},
   "outputs": [
    {
     "name": "stdout",
     "output_type": "stream",
     "text": [
      "True\n"
     ]
    }
   ],
   "source": [
    "print(a>b)"
   ]
  },
  {
   "cell_type": "code",
   "execution_count": 3,
   "id": "8f0b0651",
   "metadata": {},
   "outputs": [
    {
     "name": "stdout",
     "output_type": "stream",
     "text": [
      "False\n"
     ]
    }
   ],
   "source": [
    "print(a<b)"
   ]
  },
  {
   "cell_type": "code",
   "execution_count": 4,
   "id": "a8d0331c",
   "metadata": {},
   "outputs": [
    {
     "name": "stdout",
     "output_type": "stream",
     "text": [
      "False\n"
     ]
    }
   ],
   "source": [
    "print(10>15)"
   ]
  },
  {
   "cell_type": "markdown",
   "id": "9f34d3bf",
   "metadata": {},
   "source": [
    "# + , - , * , / , %"
   ]
  },
  {
   "cell_type": "code",
   "execution_count": 5,
   "id": "89a32f6e",
   "metadata": {},
   "outputs": [],
   "source": [
    "a=10\n",
    "b=20"
   ]
  },
  {
   "cell_type": "code",
   "execution_count": 6,
   "id": "49a60c67",
   "metadata": {},
   "outputs": [
    {
     "data": {
      "text/plain": [
       "30"
      ]
     },
     "execution_count": 6,
     "metadata": {},
     "output_type": "execute_result"
    }
   ],
   "source": [
    "a+b"
   ]
  },
  {
   "cell_type": "code",
   "execution_count": 7,
   "id": "feac1791",
   "metadata": {},
   "outputs": [
    {
     "data": {
      "text/plain": [
       "-10"
      ]
     },
     "execution_count": 7,
     "metadata": {},
     "output_type": "execute_result"
    }
   ],
   "source": [
    "a-b"
   ]
  },
  {
   "cell_type": "code",
   "execution_count": 8,
   "id": "dcf5d3ef",
   "metadata": {},
   "outputs": [
    {
     "data": {
      "text/plain": [
       "10"
      ]
     },
     "execution_count": 8,
     "metadata": {},
     "output_type": "execute_result"
    }
   ],
   "source": [
    "a%b"
   ]
  },
  {
   "cell_type": "code",
   "execution_count": 9,
   "id": "392ea22d",
   "metadata": {},
   "outputs": [
    {
     "data": {
      "text/plain": [
       "0.5"
      ]
     },
     "execution_count": 9,
     "metadata": {},
     "output_type": "execute_result"
    }
   ],
   "source": [
    "a/b"
   ]
  },
  {
   "cell_type": "code",
   "execution_count": 10,
   "id": "5e3b3326",
   "metadata": {},
   "outputs": [
    {
     "name": "stdout",
     "output_type": "stream",
     "text": [
      "here we are adding car an pen variable \n"
     ]
    }
   ],
   "source": [
    "print(\"here we are adding car an pen variable \")"
   ]
  },
  {
   "cell_type": "code",
   "execution_count": 11,
   "id": "54d4819a",
   "metadata": {},
   "outputs": [],
   "source": [
    "car=10\n",
    "bike=23"
   ]
  },
  {
   "cell_type": "code",
   "execution_count": 12,
   "id": "49bc2774",
   "metadata": {},
   "outputs": [],
   "source": [
    "book=car+bike"
   ]
  },
  {
   "cell_type": "code",
   "execution_count": 13,
   "id": "6135ddb9",
   "metadata": {},
   "outputs": [
    {
     "ename": "SyntaxError",
     "evalue": "invalid syntax. Perhaps you forgot a comma? (417245301.py, line 1)",
     "output_type": "error",
     "traceback": [
      "\u001b[1;36m  Cell \u001b[1;32mIn[13], line 1\u001b[1;36m\u001b[0m\n\u001b[1;33m    print(\"here we are doing concatination of car and bike: value of book is :-\"book ,)\u001b[0m\n\u001b[1;37m          ^\u001b[0m\n\u001b[1;31mSyntaxError\u001b[0m\u001b[1;31m:\u001b[0m invalid syntax. Perhaps you forgot a comma?\n"
     ]
    }
   ],
   "source": [
    "print(\"here we are doing concatination of car and bike: value of book is :-\"book ,)"
   ]
  },
  {
   "cell_type": "code",
   "execution_count": null,
   "id": "acd564db",
   "metadata": {},
   "outputs": [],
   "source": [
    "a=40\n",
    "car=20\n",
    "value=a+car\n",
    "value2=a-car\n",
    "value3=a*car\n",
    "value4=a/car\n",
    "value5=a*100/car #this is a percentage of a "
   ]
  },
  {
   "cell_type": "code",
   "execution_count": null,
   "id": "364a36e4",
   "metadata": {},
   "outputs": [],
   "source": [
    "print(a+car)"
   ]
  },
  {
   "cell_type": "code",
   "execution_count": null,
   "id": "20885357",
   "metadata": {},
   "outputs": [],
   "source": [
    "print(a-car)"
   ]
  },
  {
   "cell_type": "code",
   "execution_count": null,
   "id": "aa527bb5",
   "metadata": {},
   "outputs": [],
   "source": [
    "print(a*car)"
   ]
  },
  {
   "cell_type": "code",
   "execution_count": null,
   "id": "70284913",
   "metadata": {},
   "outputs": [],
   "source": [
    "print(a/car)"
   ]
  },
  {
   "cell_type": "code",
   "execution_count": null,
   "id": "97aa399e",
   "metadata": {},
   "outputs": [],
   "source": [
    "print(a*100/car)"
   ]
  },
  {
   "cell_type": "markdown",
   "id": "4a5e6789",
   "metadata": {},
   "source": [
    "# list manupilation"
   ]
  },
  {
   "cell_type": "code",
   "execution_count": null,
   "id": "22fb78cb",
   "metadata": {},
   "outputs": [],
   "source": [
    "t=(1,2,3,3.5,\"hari\")"
   ]
  },
  {
   "cell_type": "code",
   "execution_count": null,
   "id": "891395ac",
   "metadata": {},
   "outputs": [],
   "source": [
    "type(t)"
   ]
  },
  {
   "cell_type": "code",
   "execution_count": null,
   "id": "a4a5bc67",
   "metadata": {},
   "outputs": [],
   "source": [
    "type[t]"
   ]
  },
  {
   "cell_type": "code",
   "execution_count": null,
   "id": "41493ed0",
   "metadata": {},
   "outputs": [],
   "source": [
    "list(t)"
   ]
  },
  {
   "cell_type": "code",
   "execution_count": null,
   "id": "6960236d",
   "metadata": {},
   "outputs": [],
   "source": [
    "b=list(t)"
   ]
  },
  {
   "cell_type": "code",
   "execution_count": null,
   "id": "e7ae0358",
   "metadata": {},
   "outputs": [],
   "source": [
    "type(b)"
   ]
  }
 ],
 "metadata": {
  "kernelspec": {
   "display_name": "Python 3 (ipykernel)",
   "language": "python",
   "name": "python3"
  },
  "language_info": {
   "codemirror_mode": {
    "name": "ipython",
    "version": 3
   },
   "file_extension": ".py",
   "mimetype": "text/x-python",
   "name": "python",
   "nbconvert_exporter": "python",
   "pygments_lexer": "ipython3",
   "version": "3.10.9"
  }
 },
 "nbformat": 4,
 "nbformat_minor": 5
}
